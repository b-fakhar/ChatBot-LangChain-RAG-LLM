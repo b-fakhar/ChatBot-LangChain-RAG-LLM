{
  "nbformat": 4,
  "nbformat_minor": 0,
  "metadata": {
    "colab": {
      "provenance": []
    },
    "kernelspec": {
      "name": "python3",
      "display_name": "Python 3"
    },
    "language_info": {
      "name": "python"
    }
  },
  "cells": [
    {
      "cell_type": "code",
      "source": [
        "! pip install datasets transformers[sentencepiece]"
      ],
      "metadata": {
        "id": "b61H7dVb5DSv"
      },
      "execution_count": null,
      "outputs": []
    },
    {
      "cell_type": "code",
      "execution_count": null,
      "metadata": {
        "id": "4U8aq4ECB27x"
      },
      "outputs": [],
      "source": [
        "import torch, os, pickle\n",
        "import numpy                    as np\n",
        "import pandas                   as pd\n",
        "\n",
        "from google.colab               import drive\n",
        "from sklearn.preprocessing      import MultiLabelBinarizer\n",
        "from datasets                   import load_from_disk"
      ]
    },
    {
      "cell_type": "code",
      "source": [
        "print(\"Working Directory:\", os.getcwd())\n",
        "Folder_name = 'NLP_class'\n",
        "# Mount Google Drive\n",
        "drive.mount('/content/drive')\n",
        "\n",
        "# Define the folder path\n",
        "folder_path = f\"/content/drive/MyDrive/{Folder_name}\"\n",
        "\n",
        "# Change the working directory to a specific path\n",
        "os.chdir(folder_path)\n",
        "# Print the updated working directory\n",
        "print(\"Updated Working Directory:\", os.getcwd())"
      ],
      "metadata": {
        "id": "EiBwkV_RnYyf"
      },
      "execution_count": null,
      "outputs": []
    },
    {
      "cell_type": "code",
      "source": [
        "import utils\n",
        "from   utils  import df_to_DatasetDict, MyDataset, Trainer, Evaluator"
      ],
      "metadata": {
        "id": "oVT5_ia3-cVs"
      },
      "execution_count": null,
      "outputs": []
    },
    {
      "cell_type": "markdown",
      "source": [
        "# Dataset"
      ],
      "metadata": {
        "id": "Mv-sUcj-GkpC"
      }
    },
    {
      "cell_type": "code",
      "source": [
        "# Select which dataset you want to use\n",
        "## Research Paper Subjects Dataset\n",
        "# dataset_dir_name = 'ResearchPaper_dataset'\n",
        "# out_dir_name = 'ResearchPaper_results'\n",
        "## Movie Genres Dataset\n",
        "dataset_dir_name = 'MovieGenres_dataset'\n",
        "out_dir_name = 'MovieGenres_results'\n",
        "\n",
        "\n",
        "# dataset_dir\n",
        "dataset_dir = os.path.join(folder_path,dataset_dir_name)\n",
        "# output dir\n",
        "out_dir = os.path.join(folder_path,out_dir_name)\n",
        "\n",
        "dataset = load_from_disk(os.path.join(dataset_dir))\n",
        "dataset"
      ],
      "metadata": {
        "id": "91sHax2rGmTZ"
      },
      "execution_count": null,
      "outputs": []
    },
    {
      "cell_type": "markdown",
      "source": [
        "## Load the MultiLabelBinarizer"
      ],
      "metadata": {
        "id": "fgnjFqP8HvU2"
      }
    },
    {
      "cell_type": "code",
      "source": [
        "with open(os.path.join(out_dir,'multi-label-binarizer.pkl'), \"rb\") as f:\n",
        "  multilabel = pickle.load(f)"
      ],
      "metadata": {
        "id": "0kW9Er6TG0CE"
      },
      "execution_count": null,
      "outputs": []
    },
    {
      "cell_type": "markdown",
      "source": [
        "# Training"
      ],
      "metadata": {
        "id": "MsOKbHU8-u2v"
      }
    },
    {
      "cell_type": "code",
      "source": [
        "num_classes = len(dataset['train']['labels'][0])\n",
        "device = torch.device(\"cuda\") if torch.cuda.is_available() else torch.device(\"cpu\")\n",
        "trainer = Trainer(\n",
        "                  dataset_dir,\n",
        "                  out_dir,\n",
        "                  num_classes,\n",
        "                  patience = 10,\n",
        "                  model_ckpt = \"distilbert-base-uncased\",\n",
        "                  problem_type = \"multi_label_classification\",\n",
        "                  max_len = 256,\n",
        "                  optimizer = 'Adam',\n",
        "                  init_lr = 1e-5,\n",
        "                  weight_decay = 0,\n",
        "                  scheduler_type = \"linear\",\n",
        "                  num_epochs = 2,\n",
        "                  train_bs = 32,\n",
        "                  val_bs = 32,\n",
        "                  device = device,\n",
        "                  clf_thrshold = 0.3)"
      ],
      "metadata": {
        "id": "zQISCaiuYVFk"
      },
      "execution_count": null,
      "outputs": []
    },
    {
      "cell_type": "code",
      "source": [
        "# trainer.train()"
      ],
      "metadata": {
        "id": "CpPjNvbiCr5X"
      },
      "execution_count": null,
      "outputs": []
    },
    {
      "cell_type": "code",
      "source": [
        "tunned_model_name = \"run_0\"\n",
        "\n",
        "ckpt_name = f\"dump/{tunned_model_name}/training_checkpoint.pth\"\n",
        "ckpt = torch.load(os.path.join(out_dir, ckpt_name))\n",
        "\n",
        "print(ckpt.keys())\n",
        "print(ckpt['val_metrics'])"
      ],
      "metadata": {
        "id": "eUwuGl166fOR"
      },
      "execution_count": null,
      "outputs": []
    },
    {
      "cell_type": "markdown",
      "source": [
        "# Evaluation"
      ],
      "metadata": {
        "id": "v1gmIu9an_fH"
      }
    },
    {
      "cell_type": "code",
      "source": [
        "model_dir = os.path.join(out_dir, f\"dump/{tunned_model_name}\")\n",
        "test_dataset_dir = os.path.join(dataset_dir, 'validation')\n",
        "\n",
        "evaluator = Evaluator(dataset_dir  = test_dataset_dir,\n",
        "                      model_dir    = model_dir,\n",
        "                      num_classes  = num_classes,\n",
        "                      ckpt_name    = \"training_checkpoint.pth\",\n",
        "                      model_ckpt   = \"distilbert-base-uncased\",\n",
        "                      problem_type = \"multi_label_classification\",\n",
        "                      device       = device,\n",
        "                      clf_thrshold = 0.3)"
      ],
      "metadata": {
        "id": "vd77z-EzoHFL"
      },
      "execution_count": null,
      "outputs": []
    },
    {
      "cell_type": "code",
      "source": [
        "evaluator.evaluate()"
      ],
      "metadata": {
        "id": "cD0K88h0oHIN"
      },
      "execution_count": null,
      "outputs": []
    },
    {
      "cell_type": "markdown",
      "source": [
        "# Prediction"
      ],
      "metadata": {
        "id": "EG6c9Vs-7QX6"
      }
    },
    {
      "cell_type": "code",
      "source": [
        "# Generate 10 random integers between 1 and 1000\n",
        "row_indices = np.random.randint(1, dataset[\"validation\"].shape[0], size=10)\n",
        "\n",
        "for row in row_indices:\n",
        "  text  = dataset['train']['text'][row]\n",
        "  label = dataset['train']['labels'][row]\n",
        "  print(f\"df row index: {row}\")\n",
        "  print(f\"Groundtruth:  {multilabel.inverse_transform(label.reshape(1,-1))}\")\n",
        "  print(f\"Prediction:   {evaluator.prediction(text,multilabel)} \\n\")"
      ],
      "metadata": {
        "id": "064aKCjSaXZ7"
      },
      "execution_count": null,
      "outputs": []
    }
  ]
}